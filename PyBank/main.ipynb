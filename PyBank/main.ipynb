{
 "cells": [
  {
   "cell_type": "code",
   "execution_count": 14,
   "id": "36f09908-dd3a-4ded-9b94-c3216d3daace",
   "metadata": {},
   "outputs": [],
   "source": [
    "from pathlib import Path\n",
    "import csv"
   ]
  },
  {
   "cell_type": "code",
   "execution_count": 15,
   "id": "f607c6d8-91b7-4e52-8ee4-de8cf30c4f85",
   "metadata": {},
   "outputs": [],
   "source": [
    "csvpath = Path(\"../budget_data.csv\")"
   ]
  },
  {
   "cell_type": "code",
   "execution_count": 12,
   "id": "59af3eed-00ed-4c51-a880-0a91d83f8722",
   "metadata": {},
   "outputs": [],
   "source": []
  },
  {
   "cell_type": "code",
   "execution_count": 16,
   "id": "53bf532c-bedd-4e90-a380-37091b907739",
   "metadata": {},
   "outputs": [
    {
     "name": "stdout",
     "output_type": "stream",
     "text": [
      "[867884, 984655, 322013, -69417, 310503, 522857, 1033096, 604885, -216386, 477532, 893810, -80353, 779806, -335203, 697845, 793163, 485070, 584122, 62729, 668179, 899906, 834719, 132003, 309978, -755566, 1170593, 252788, 1151518, 817256, 570757, 506702, -1022534, 475062, 779976, 144175, 542494, 359333, 321469, 67780, 471435, 565603, 872480, 789480, 999942, -1196225, 268997, -687986, 1150461, 682458, 617856, 824098, 581943, 132864, 448062, 689161, 800701, 1166643, 947333, 578668, 988505, 1139715, 1029471, 687533, -524626, 158620, 87795, 423389, 840723, 568529, 332067, 989499, 778237, 650000, -1100387, -174946, 757143, 445709, 712961, -1163797, 569899, 768450, 102685, 795914, 60988, 138230, 671099]\n"
     ]
    }
   ],
   "source": [
    "profit_loss = []\n",
    "\n",
    "line_num = 0\n",
    "\n",
    "with open(csvpath, 'r') as csvfile:\n",
    "    csvreader = csv.reader(csvfile, delimiter =',')\n",
    "    header = next(csvreader)\n",
    "    line_num += 1\n",
    "    for row in csvreader:\n",
    "        profit_losses = int(row[1])\n",
    "       # dates = str(row[0])\n",
    "        profit_loss.append(profit_losses)\n",
    "       # dates.append(dates)\n",
    "print(profit_loss)"
   ]
  },
  {
   "cell_type": "code",
   "execution_count": 24,
   "id": "385af9e4-9356-4ce5-8254-ab195fa581c4",
   "metadata": {},
   "outputs": [
    {
     "name": "stdout",
     "output_type": "stream",
     "text": [
      "Total Months: 86\n",
      "'''text\n",
      "Financial Analysis\n",
      "-----------------\n",
      "Total Months: 86\n",
      "Total: $38382578\n",
      "Average Change: $(446309.05)\n",
      "Greatest Increase in Profits: $(1170593)\n",
      "Greatest Decrease in Profits: $(-1196225)\n"
     ]
    }
   ],
   "source": [
    "print(f\"Total Months:\", len(profit_loss))\n",
    "\n",
    "count = 0\n",
    "total = 0\n",
    "average = 0\n",
    "minimum = 0\n",
    "maximum = 0\n",
    "\n",
    "profitable_months = []\n",
    "unprofitable_months = []\n",
    "\n",
    "for month_pnl in profit_loss:\n",
    "    total += month_pnl\n",
    "    count += 1\n",
    "    if minimum == 0:\n",
    "        minimum = month_pnl\n",
    "    elif month_pnl < minimum:\n",
    "        minimum = month_pnl\n",
    "    elif month_pnl > maximum:\n",
    "        maximum = month_pnl\n",
    "  #if month_pnl > 0:\n",
    "       #profitable_months.append(month_pnl)\n",
    "   #elif month_pnl <== 0:\n",
    "       #unprofitable_month.append(month.pnl\n",
    "                                  \n",
    "average = round(total / count, 2)\n",
    "\n",
    "print(\"'''text\")\n",
    "print(\"Financial Analysis\")\n",
    "print(\"-----------------\")\n",
    "print(f\"Total Months: {count}\")\n",
    "print(f\"Total: ${total}\")\n",
    "print(f\"Average Change: $({average})\")\n",
    "print(f\"Greatest Increase in Profits: $({maximum})\")\n",
    "print(f\"Greatest Decrease in Profits: $({minimum})\")\n",
    "\n",
    "output_path = \"output.txt\"\n",
    "\n",
    "with open(output_path, 'w') as file:\n",
    "    file.write(f\"Total Months: {count}\\n\")\n",
    "    file.write(f\"Average Change: ${average}\\n\")\n",
    "    file.write(f\"Greatest Increase in Profits: $({maximum})\\n\")\n",
    "    file.write(f\"Greatest Increase in Profits: $({maximum})\\n\")\n",
    "    file.write(f\"Greatest Decrease in Profits: $({minimum})\\n\")\n"
   ]
  },
  {
   "cell_type": "code",
   "execution_count": null,
   "id": "a1a36a0a-82fc-477a-baa7-abbeaad2a9e4",
   "metadata": {},
   "outputs": [],
   "source": []
  }
 ],
 "metadata": {
  "kernelspec": {
   "display_name": "Python 3 (ipykernel)",
   "language": "python",
   "name": "python3"
  },
  "language_info": {
   "codemirror_mode": {
    "name": "ipython",
    "version": 3
   },
   "file_extension": ".py",
   "mimetype": "text/x-python",
   "name": "python",
   "nbconvert_exporter": "python",
   "pygments_lexer": "ipython3",
   "version": "3.9.7"
  }
 },
 "nbformat": 4,
 "nbformat_minor": 5
}
